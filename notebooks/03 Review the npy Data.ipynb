{
 "cells": [
  {
   "cell_type": "markdown",
   "metadata": {},
   "source": [
    "# Review the npy Data\n",
    "\n",
    "The aim of this file is to review the structure of npy data that is used for modeling."
   ]
  },
  {
   "cell_type": "code",
   "execution_count": 36,
   "metadata": {},
   "outputs": [],
   "source": [
    "# includes\n",
    "import numpy as np\n",
    "import pandas as pd"
   ]
  },
  {
   "cell_type": "code",
   "execution_count": 37,
   "metadata": {},
   "outputs": [],
   "source": [
    "data = np.load('../training_data/flowerbed1_160h_new.npy', allow_pickle=True)"
   ]
  },
  {
   "cell_type": "code",
   "execution_count": 38,
   "metadata": {},
   "outputs": [
    {
     "name": "stdout",
     "output_type": "stream",
     "text": [
      "Data set 1 dimensions (1850, 7), and set 2 dimensions(1850, 80)\n"
     ]
    }
   ],
   "source": [
    "# data shape\n",
    "print(\"Data set 1 dimensions {}, and set 2 dimensions{}\".format(data[0].shape, data[1].shape))\n",
    "\n",
    "# data is of shape: 2 array in the object, one (585, 7), the other (585, 80)\n",
    "# this looks like two datasets of length 585 items:\n",
    "#  - the first having 7 features (might be the feature vector)\n",
    "#  - the second having 80 features (might be the target vector of 80 prediction horizons)"
   ]
  },
  {
   "cell_type": "code",
   "execution_count": null,
   "metadata": {},
   "outputs": [],
   "source": []
  }
 ],
 "metadata": {
  "kernelspec": {
   "display_name": "Python 3",
   "language": "python",
   "name": "python3"
  },
  "language_info": {
   "codemirror_mode": {
    "name": "ipython",
    "version": 3
   },
   "file_extension": ".py",
   "mimetype": "text/x-python",
   "name": "python",
   "nbconvert_exporter": "python",
   "pygments_lexer": "ipython3",
   "version": "3.8.5"
  }
 },
 "nbformat": 4,
 "nbformat_minor": 4
}
